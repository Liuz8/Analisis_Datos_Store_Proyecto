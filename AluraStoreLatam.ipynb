{
  "cells": [
    {
      "cell_type": "markdown",
      "metadata": {
        "id": "RhEdWd9YUR6H"
      },
      "source": [
        "### Importación de datos\n",
        "\n"
      ]
    },
    {
      "cell_type": "code",
      "execution_count": 5,
      "metadata": {
        "colab": {
          "base_uri": "https://localhost:8080/",
          "height": 206
        },
        "id": "T3EvaeQ_INIL",
        "outputId": "e9c5efe1-82a3-43ab-e8d7-6d01e4fa3514"
      },
      "outputs": [
        {
          "data": {
            "text/html": [
              "<div>\n",
              "<style scoped>\n",
              "    .dataframe tbody tr th:only-of-type {\n",
              "        vertical-align: middle;\n",
              "    }\n",
              "\n",
              "    .dataframe tbody tr th {\n",
              "        vertical-align: top;\n",
              "    }\n",
              "\n",
              "    .dataframe thead th {\n",
              "        text-align: right;\n",
              "    }\n",
              "</style>\n",
              "<table border=\"1\" class=\"dataframe\">\n",
              "  <thead>\n",
              "    <tr style=\"text-align: right;\">\n",
              "      <th></th>\n",
              "      <th>Producto</th>\n",
              "      <th>Categoría del Producto</th>\n",
              "      <th>Precio</th>\n",
              "      <th>Costo de envío</th>\n",
              "      <th>Fecha de Compra</th>\n",
              "      <th>Vendedor</th>\n",
              "      <th>Lugar de Compra</th>\n",
              "      <th>Calificación</th>\n",
              "      <th>Método de pago</th>\n",
              "      <th>Cantidad de cuotas</th>\n",
              "      <th>lat</th>\n",
              "      <th>lon</th>\n",
              "    </tr>\n",
              "  </thead>\n",
              "  <tbody>\n",
              "    <tr>\n",
              "      <th>0</th>\n",
              "      <td>Asistente virtual</td>\n",
              "      <td>Electrónicos</td>\n",
              "      <td>164300.0</td>\n",
              "      <td>6900.0</td>\n",
              "      <td>16/01/2021</td>\n",
              "      <td>Pedro Gomez</td>\n",
              "      <td>Bogotá</td>\n",
              "      <td>4</td>\n",
              "      <td>Tarjeta de crédito</td>\n",
              "      <td>8</td>\n",
              "      <td>4.60971</td>\n",
              "      <td>-74.08175</td>\n",
              "    </tr>\n",
              "    <tr>\n",
              "      <th>1</th>\n",
              "      <td>Mesa de comedor</td>\n",
              "      <td>Muebles</td>\n",
              "      <td>192300.0</td>\n",
              "      <td>8400.0</td>\n",
              "      <td>18/05/2022</td>\n",
              "      <td>Beatriz Morales</td>\n",
              "      <td>Medellín</td>\n",
              "      <td>1</td>\n",
              "      <td>Tarjeta de crédito</td>\n",
              "      <td>4</td>\n",
              "      <td>6.25184</td>\n",
              "      <td>-75.56359</td>\n",
              "    </tr>\n",
              "    <tr>\n",
              "      <th>2</th>\n",
              "      <td>Juego de mesa</td>\n",
              "      <td>Juguetes</td>\n",
              "      <td>209600.0</td>\n",
              "      <td>15900.0</td>\n",
              "      <td>15/03/2021</td>\n",
              "      <td>Juan Fernandez</td>\n",
              "      <td>Cartagena</td>\n",
              "      <td>1</td>\n",
              "      <td>Tarjeta de crédito</td>\n",
              "      <td>1</td>\n",
              "      <td>10.39972</td>\n",
              "      <td>-75.51444</td>\n",
              "    </tr>\n",
              "    <tr>\n",
              "      <th>3</th>\n",
              "      <td>Microondas</td>\n",
              "      <td>Electrodomésticos</td>\n",
              "      <td>757500.0</td>\n",
              "      <td>41000.0</td>\n",
              "      <td>03/05/2022</td>\n",
              "      <td>Juan Fernandez</td>\n",
              "      <td>Cali</td>\n",
              "      <td>4</td>\n",
              "      <td>Nequi</td>\n",
              "      <td>1</td>\n",
              "      <td>3.43722</td>\n",
              "      <td>-76.52250</td>\n",
              "    </tr>\n",
              "    <tr>\n",
              "      <th>4</th>\n",
              "      <td>Silla de oficina</td>\n",
              "      <td>Muebles</td>\n",
              "      <td>335200.0</td>\n",
              "      <td>20200.0</td>\n",
              "      <td>07/11/2020</td>\n",
              "      <td>Maria Alfonso</td>\n",
              "      <td>Medellín</td>\n",
              "      <td>5</td>\n",
              "      <td>Nequi</td>\n",
              "      <td>1</td>\n",
              "      <td>6.25184</td>\n",
              "      <td>-75.56359</td>\n",
              "    </tr>\n",
              "  </tbody>\n",
              "</table>\n",
              "</div>"
            ],
            "text/plain": [
              "            Producto Categoría del Producto    Precio  Costo de envío  \\\n",
              "0  Asistente virtual           Electrónicos  164300.0          6900.0   \n",
              "1    Mesa de comedor                Muebles  192300.0          8400.0   \n",
              "2      Juego de mesa               Juguetes  209600.0         15900.0   \n",
              "3         Microondas      Electrodomésticos  757500.0         41000.0   \n",
              "4   Silla de oficina                Muebles  335200.0         20200.0   \n",
              "\n",
              "  Fecha de Compra         Vendedor Lugar de Compra  Calificación  \\\n",
              "0      16/01/2021      Pedro Gomez          Bogotá             4   \n",
              "1      18/05/2022  Beatriz Morales        Medellín             1   \n",
              "2      15/03/2021   Juan Fernandez       Cartagena             1   \n",
              "3      03/05/2022   Juan Fernandez            Cali             4   \n",
              "4      07/11/2020    Maria Alfonso        Medellín             5   \n",
              "\n",
              "       Método de pago  Cantidad de cuotas       lat       lon  \n",
              "0  Tarjeta de crédito                   8   4.60971 -74.08175  \n",
              "1  Tarjeta de crédito                   4   6.25184 -75.56359  \n",
              "2  Tarjeta de crédito                   1  10.39972 -75.51444  \n",
              "3               Nequi                   1   3.43722 -76.52250  \n",
              "4               Nequi                   1   6.25184 -75.56359  "
            ]
          },
          "execution_count": 5,
          "metadata": {},
          "output_type": "execute_result"
        }
      ],
      "source": [
        "import pandas as pd\n",
        "\n",
        "url = \"base-de-datos-challenge1-latam/tienda_1.csv\"\n",
        "url2 = \"base-de-datos-challenge1-latam/tienda_2.csv\"\n",
        "url3 = \"base-de-datos-challenge1-latam/tienda_3.csv\"\n",
        "url4 = \"base-de-datos-challenge1-latam/tienda_4.csv\"\n",
        "\n",
        "tienda = pd.read_csv(url)\n",
        "tienda2 = pd.read_csv(url2)\n",
        "tienda3 = pd.read_csv(url3)\n",
        "tienda4 = pd.read_csv(url4)\n",
        "\n",
        "tienda.head()"
      ]
    },
    {
      "cell_type": "markdown",
      "metadata": {
        "id": "X62IW3KFUIYm"
      },
      "source": [
        "#1. Análisis de facturación\n",
        "\n"
      ]
    },
    {
      "cell_type": "code",
      "execution_count": 22,
      "metadata": {},
      "outputs": [
        {
          "data": {
            "text/plain": [
              "0       Asistente virtual\n",
              "1         Mesa de comedor\n",
              "2           Juego de mesa\n",
              "3              Microondas\n",
              "4        Silla de oficina\n",
              "              ...        \n",
              "2354            Iphone 15\n",
              "2355            Impresora\n",
              "2356        Juego de mesa\n",
              "2357             Cama box\n",
              "2358           Smartwatch\n",
              "Name: Producto, Length: 2359, dtype: object"
            ]
          },
          "execution_count": 22,
          "metadata": {},
          "output_type": "execute_result"
        }
      ],
      "source": [
        "tienda['Producto']"
      ]
    },
    {
      "cell_type": "code",
      "execution_count": 28,
      "metadata": {},
      "outputs": [
        {
          "data": {
            "text/html": [
              "<div>\n",
              "<style scoped>\n",
              "    .dataframe tbody tr th:only-of-type {\n",
              "        vertical-align: middle;\n",
              "    }\n",
              "\n",
              "    .dataframe tbody tr th {\n",
              "        vertical-align: top;\n",
              "    }\n",
              "\n",
              "    .dataframe thead th {\n",
              "        text-align: right;\n",
              "    }\n",
              "</style>\n",
              "<table border=\"1\" class=\"dataframe\">\n",
              "  <thead>\n",
              "    <tr style=\"text-align: right;\">\n",
              "      <th></th>\n",
              "      <th>Producto</th>\n",
              "      <th>Precio</th>\n",
              "      <th>Lugar de Compra</th>\n",
              "    </tr>\n",
              "  </thead>\n",
              "  <tbody>\n",
              "    <tr>\n",
              "      <th>0</th>\n",
              "      <td>Asistente virtual</td>\n",
              "      <td>164300.0</td>\n",
              "      <td>Bogotá</td>\n",
              "    </tr>\n",
              "    <tr>\n",
              "      <th>1</th>\n",
              "      <td>Mesa de comedor</td>\n",
              "      <td>192300.0</td>\n",
              "      <td>Medellín</td>\n",
              "    </tr>\n",
              "    <tr>\n",
              "      <th>2</th>\n",
              "      <td>Juego de mesa</td>\n",
              "      <td>209600.0</td>\n",
              "      <td>Cartagena</td>\n",
              "    </tr>\n",
              "    <tr>\n",
              "      <th>3</th>\n",
              "      <td>Microondas</td>\n",
              "      <td>757500.0</td>\n",
              "      <td>Cali</td>\n",
              "    </tr>\n",
              "    <tr>\n",
              "      <th>4</th>\n",
              "      <td>Silla de oficina</td>\n",
              "      <td>335200.0</td>\n",
              "      <td>Medellín</td>\n",
              "    </tr>\n",
              "    <tr>\n",
              "      <th>...</th>\n",
              "      <td>...</td>\n",
              "      <td>...</td>\n",
              "      <td>...</td>\n",
              "    </tr>\n",
              "    <tr>\n",
              "      <th>2354</th>\n",
              "      <td>Iphone 15</td>\n",
              "      <td>1284400.0</td>\n",
              "      <td>Medellín</td>\n",
              "    </tr>\n",
              "    <tr>\n",
              "      <th>2355</th>\n",
              "      <td>Impresora</td>\n",
              "      <td>282800.0</td>\n",
              "      <td>Bogotá</td>\n",
              "    </tr>\n",
              "    <tr>\n",
              "      <th>2356</th>\n",
              "      <td>Juego de mesa</td>\n",
              "      <td>122900.0</td>\n",
              "      <td>Cali</td>\n",
              "    </tr>\n",
              "    <tr>\n",
              "      <th>2357</th>\n",
              "      <td>Cama box</td>\n",
              "      <td>691300.0</td>\n",
              "      <td>Pasto</td>\n",
              "    </tr>\n",
              "    <tr>\n",
              "      <th>2358</th>\n",
              "      <td>Smartwatch</td>\n",
              "      <td>195000.0</td>\n",
              "      <td>Cali</td>\n",
              "    </tr>\n",
              "  </tbody>\n",
              "</table>\n",
              "<p>2359 rows × 3 columns</p>\n",
              "</div>"
            ],
            "text/plain": [
              "               Producto     Precio Lugar de Compra\n",
              "0     Asistente virtual   164300.0          Bogotá\n",
              "1       Mesa de comedor   192300.0        Medellín\n",
              "2         Juego de mesa   209600.0       Cartagena\n",
              "3            Microondas   757500.0            Cali\n",
              "4      Silla de oficina   335200.0        Medellín\n",
              "...                 ...        ...             ...\n",
              "2354          Iphone 15  1284400.0        Medellín\n",
              "2355          Impresora   282800.0          Bogotá\n",
              "2356      Juego de mesa   122900.0            Cali\n",
              "2357           Cama box   691300.0           Pasto\n",
              "2358         Smartwatch   195000.0            Cali\n",
              "\n",
              "[2359 rows x 3 columns]"
            ]
          },
          "execution_count": 28,
          "metadata": {},
          "output_type": "execute_result"
        }
      ],
      "source": [
        "tienda[[\"Producto\", \"Precio\", \"Lugar de Compra\"]]"
      ]
    },
    {
      "cell_type": "code",
      "execution_count": 6,
      "metadata": {},
      "outputs": [
        {
          "data": {
            "text/html": [
              "<div>\n",
              "<style scoped>\n",
              "    .dataframe tbody tr th:only-of-type {\n",
              "        vertical-align: middle;\n",
              "    }\n",
              "\n",
              "    .dataframe tbody tr th {\n",
              "        vertical-align: top;\n",
              "    }\n",
              "\n",
              "    .dataframe thead th {\n",
              "        text-align: right;\n",
              "    }\n",
              "</style>\n",
              "<table border=\"1\" class=\"dataframe\">\n",
              "  <thead>\n",
              "    <tr style=\"text-align: right;\">\n",
              "      <th></th>\n",
              "      <th>Producto</th>\n",
              "      <th>Categoría del Producto</th>\n",
              "      <th>Precio</th>\n",
              "      <th>Costo de envío</th>\n",
              "      <th>Fecha de Compra</th>\n",
              "      <th>Vendedor</th>\n",
              "      <th>Lugar de Compra</th>\n",
              "      <th>Calificación</th>\n",
              "      <th>Método de pago</th>\n",
              "      <th>Cantidad de cuotas</th>\n",
              "      <th>lat</th>\n",
              "      <th>lon</th>\n",
              "    </tr>\n",
              "  </thead>\n",
              "  <tbody>\n",
              "    <tr>\n",
              "      <th>0</th>\n",
              "      <td>Asistente virtual</td>\n",
              "      <td>Electrónicos</td>\n",
              "      <td>164300.0</td>\n",
              "      <td>6900.0</td>\n",
              "      <td>16/01/2021</td>\n",
              "      <td>Pedro Gomez</td>\n",
              "      <td>Bogotá</td>\n",
              "      <td>4</td>\n",
              "      <td>Tarjeta de crédito</td>\n",
              "      <td>8</td>\n",
              "      <td>4.60971</td>\n",
              "      <td>-74.08175</td>\n",
              "    </tr>\n",
              "    <tr>\n",
              "      <th>1</th>\n",
              "      <td>Mesa de comedor</td>\n",
              "      <td>Muebles</td>\n",
              "      <td>192300.0</td>\n",
              "      <td>8400.0</td>\n",
              "      <td>18/05/2022</td>\n",
              "      <td>Beatriz Morales</td>\n",
              "      <td>Medellín</td>\n",
              "      <td>1</td>\n",
              "      <td>Tarjeta de crédito</td>\n",
              "      <td>4</td>\n",
              "      <td>6.25184</td>\n",
              "      <td>-75.56359</td>\n",
              "    </tr>\n",
              "    <tr>\n",
              "      <th>2</th>\n",
              "      <td>Juego de mesa</td>\n",
              "      <td>Juguetes</td>\n",
              "      <td>209600.0</td>\n",
              "      <td>15900.0</td>\n",
              "      <td>15/03/2021</td>\n",
              "      <td>Juan Fernandez</td>\n",
              "      <td>Cartagena</td>\n",
              "      <td>1</td>\n",
              "      <td>Tarjeta de crédito</td>\n",
              "      <td>1</td>\n",
              "      <td>10.39972</td>\n",
              "      <td>-75.51444</td>\n",
              "    </tr>\n",
              "    <tr>\n",
              "      <th>3</th>\n",
              "      <td>Microondas</td>\n",
              "      <td>Electrodomésticos</td>\n",
              "      <td>757500.0</td>\n",
              "      <td>41000.0</td>\n",
              "      <td>03/05/2022</td>\n",
              "      <td>Juan Fernandez</td>\n",
              "      <td>Cali</td>\n",
              "      <td>4</td>\n",
              "      <td>Nequi</td>\n",
              "      <td>1</td>\n",
              "      <td>3.43722</td>\n",
              "      <td>-76.52250</td>\n",
              "    </tr>\n",
              "    <tr>\n",
              "      <th>4</th>\n",
              "      <td>Silla de oficina</td>\n",
              "      <td>Muebles</td>\n",
              "      <td>335200.0</td>\n",
              "      <td>20200.0</td>\n",
              "      <td>07/11/2020</td>\n",
              "      <td>Maria Alfonso</td>\n",
              "      <td>Medellín</td>\n",
              "      <td>5</td>\n",
              "      <td>Nequi</td>\n",
              "      <td>1</td>\n",
              "      <td>6.25184</td>\n",
              "      <td>-75.56359</td>\n",
              "    </tr>\n",
              "    <tr>\n",
              "      <th>...</th>\n",
              "      <td>...</td>\n",
              "      <td>...</td>\n",
              "      <td>...</td>\n",
              "      <td>...</td>\n",
              "      <td>...</td>\n",
              "      <td>...</td>\n",
              "      <td>...</td>\n",
              "      <td>...</td>\n",
              "      <td>...</td>\n",
              "      <td>...</td>\n",
              "      <td>...</td>\n",
              "      <td>...</td>\n",
              "    </tr>\n",
              "    <tr>\n",
              "      <th>2354</th>\n",
              "      <td>Iphone 15</td>\n",
              "      <td>Electrónicos</td>\n",
              "      <td>1284400.0</td>\n",
              "      <td>66600.0</td>\n",
              "      <td>15/11/2021</td>\n",
              "      <td>Izabela de León</td>\n",
              "      <td>Medellín</td>\n",
              "      <td>1</td>\n",
              "      <td>Nequi</td>\n",
              "      <td>1</td>\n",
              "      <td>6.25184</td>\n",
              "      <td>-75.56359</td>\n",
              "    </tr>\n",
              "    <tr>\n",
              "      <th>2355</th>\n",
              "      <td>Impresora</td>\n",
              "      <td>Electrónicos</td>\n",
              "      <td>282800.0</td>\n",
              "      <td>15300.0</td>\n",
              "      <td>18/03/2023</td>\n",
              "      <td>Lucas Olivera</td>\n",
              "      <td>Bogotá</td>\n",
              "      <td>5</td>\n",
              "      <td>Nequi</td>\n",
              "      <td>1</td>\n",
              "      <td>4.60971</td>\n",
              "      <td>-74.08175</td>\n",
              "    </tr>\n",
              "    <tr>\n",
              "      <th>2356</th>\n",
              "      <td>Juego de mesa</td>\n",
              "      <td>Juguetes</td>\n",
              "      <td>122900.0</td>\n",
              "      <td>7200.0</td>\n",
              "      <td>06/07/2021</td>\n",
              "      <td>Lucas Olivera</td>\n",
              "      <td>Cali</td>\n",
              "      <td>5</td>\n",
              "      <td>Tarjeta de crédito</td>\n",
              "      <td>4</td>\n",
              "      <td>3.43722</td>\n",
              "      <td>-76.52250</td>\n",
              "    </tr>\n",
              "    <tr>\n",
              "      <th>2357</th>\n",
              "      <td>Cama box</td>\n",
              "      <td>Muebles</td>\n",
              "      <td>691300.0</td>\n",
              "      <td>35000.0</td>\n",
              "      <td>02/05/2022</td>\n",
              "      <td>Pedro Gomez</td>\n",
              "      <td>Pasto</td>\n",
              "      <td>1</td>\n",
              "      <td>Tarjeta de crédito</td>\n",
              "      <td>2</td>\n",
              "      <td>1.21361</td>\n",
              "      <td>-77.28111</td>\n",
              "    </tr>\n",
              "    <tr>\n",
              "      <th>2358</th>\n",
              "      <td>Smartwatch</td>\n",
              "      <td>Electrónicos</td>\n",
              "      <td>195000.0</td>\n",
              "      <td>8600.0</td>\n",
              "      <td>18/06/2022</td>\n",
              "      <td>Felipe Santos</td>\n",
              "      <td>Cali</td>\n",
              "      <td>4</td>\n",
              "      <td>Tarjeta de crédito</td>\n",
              "      <td>1</td>\n",
              "      <td>3.43722</td>\n",
              "      <td>-76.52250</td>\n",
              "    </tr>\n",
              "  </tbody>\n",
              "</table>\n",
              "<p>1492 rows × 12 columns</p>\n",
              "</div>"
            ],
            "text/plain": [
              "               Producto Categoría del Producto     Precio  Costo de envío  \\\n",
              "0     Asistente virtual           Electrónicos   164300.0          6900.0   \n",
              "1       Mesa de comedor                Muebles   192300.0          8400.0   \n",
              "2         Juego de mesa               Juguetes   209600.0         15900.0   \n",
              "3            Microondas      Electrodomésticos   757500.0         41000.0   \n",
              "4      Silla de oficina                Muebles   335200.0         20200.0   \n",
              "...                 ...                    ...        ...             ...   \n",
              "2354          Iphone 15           Electrónicos  1284400.0         66600.0   \n",
              "2355          Impresora           Electrónicos   282800.0         15300.0   \n",
              "2356      Juego de mesa               Juguetes   122900.0          7200.0   \n",
              "2357           Cama box                Muebles   691300.0         35000.0   \n",
              "2358         Smartwatch           Electrónicos   195000.0          8600.0   \n",
              "\n",
              "     Fecha de Compra         Vendedor Lugar de Compra  Calificación  \\\n",
              "0         16/01/2021      Pedro Gomez          Bogotá             4   \n",
              "1         18/05/2022  Beatriz Morales        Medellín             1   \n",
              "2         15/03/2021   Juan Fernandez       Cartagena             1   \n",
              "3         03/05/2022   Juan Fernandez            Cali             4   \n",
              "4         07/11/2020    Maria Alfonso        Medellín             5   \n",
              "...              ...              ...             ...           ...   \n",
              "2354      15/11/2021  Izabela de León        Medellín             1   \n",
              "2355      18/03/2023    Lucas Olivera          Bogotá             5   \n",
              "2356      06/07/2021    Lucas Olivera            Cali             5   \n",
              "2357      02/05/2022      Pedro Gomez           Pasto             1   \n",
              "2358      18/06/2022    Felipe Santos            Cali             4   \n",
              "\n",
              "          Método de pago  Cantidad de cuotas       lat       lon  \n",
              "0     Tarjeta de crédito                   8   4.60971 -74.08175  \n",
              "1     Tarjeta de crédito                   4   6.25184 -75.56359  \n",
              "2     Tarjeta de crédito                   1  10.39972 -75.51444  \n",
              "3                  Nequi                   1   3.43722 -76.52250  \n",
              "4                  Nequi                   1   6.25184 -75.56359  \n",
              "...                  ...                 ...       ...       ...  \n",
              "2354               Nequi                   1   6.25184 -75.56359  \n",
              "2355               Nequi                   1   4.60971 -74.08175  \n",
              "2356  Tarjeta de crédito                   4   3.43722 -76.52250  \n",
              "2357  Tarjeta de crédito                   2   1.21361 -77.28111  \n",
              "2358  Tarjeta de crédito                   1   3.43722 -76.52250  \n",
              "\n",
              "[1492 rows x 12 columns]"
            ]
          },
          "execution_count": 6,
          "metadata": {},
          "output_type": "execute_result"
        }
      ],
      "source": [
        "# filtrar por condicion\n",
        "tienda[tienda[\"Precio\"] > 100000]"
      ]
    },
    {
      "cell_type": "code",
      "execution_count": 7,
      "metadata": {},
      "outputs": [
        {
          "data": {
            "text/plain": [
              "Producto                       Juego de mesa\n",
              "Categoría del Producto              Juguetes\n",
              "Precio                              209600.0\n",
              "Costo de envío                       15900.0\n",
              "Fecha de Compra                   15/03/2021\n",
              "Vendedor                      Juan Fernandez\n",
              "Lugar de Compra                    Cartagena\n",
              "Calificación                               1\n",
              "Método de pago            Tarjeta de crédito\n",
              "Cantidad de cuotas                         1\n",
              "lat                                 10.39972\n",
              "lon                                -75.51444\n",
              "Name: 2, dtype: object"
            ]
          },
          "execution_count": 7,
          "metadata": {},
          "output_type": "execute_result"
        }
      ],
      "source": [
        "# Acceder a una fila especifica por indice\n",
        "\n",
        "tienda.iloc[2]"
      ]
    },
    {
      "cell_type": "code",
      "execution_count": 13,
      "metadata": {},
      "outputs": [
        {
          "data": {
            "text/plain": [
              "Producto                   Asistente virtual\n",
              "Categoría del Producto          Electrónicos\n",
              "Precio                              164300.0\n",
              "Costo de envío                        6900.0\n",
              "Fecha de Compra                   16/01/2021\n",
              "Vendedor                         Pedro Gomez\n",
              "Lugar de Compra                       Bogotá\n",
              "Calificación                               4\n",
              "Método de pago            Tarjeta de crédito\n",
              "Cantidad de cuotas                         8\n",
              "lat                                  4.60971\n",
              "lon                                -74.08175\n",
              "Name: 0, dtype: object"
            ]
          },
          "execution_count": 13,
          "metadata": {},
          "output_type": "execute_result"
        }
      ],
      "source": [
        "# Acceder por etiqueta de indice\n",
        "\n",
        "tienda.loc[0]"
      ]
    },
    {
      "cell_type": "code",
      "execution_count": 14,
      "metadata": {},
      "outputs": [
        {
          "data": {
            "text/html": [
              "<div>\n",
              "<style scoped>\n",
              "    .dataframe tbody tr th:only-of-type {\n",
              "        vertical-align: middle;\n",
              "    }\n",
              "\n",
              "    .dataframe tbody tr th {\n",
              "        vertical-align: top;\n",
              "    }\n",
              "\n",
              "    .dataframe thead th {\n",
              "        text-align: right;\n",
              "    }\n",
              "</style>\n",
              "<table border=\"1\" class=\"dataframe\">\n",
              "  <thead>\n",
              "    <tr style=\"text-align: right;\">\n",
              "      <th></th>\n",
              "      <th>Precio</th>\n",
              "      <th>Costo de envío</th>\n",
              "      <th>Calificación</th>\n",
              "      <th>Cantidad de cuotas</th>\n",
              "      <th>lat</th>\n",
              "      <th>lon</th>\n",
              "    </tr>\n",
              "  </thead>\n",
              "  <tbody>\n",
              "    <tr>\n",
              "      <th>count</th>\n",
              "      <td>2.359000e+03</td>\n",
              "      <td>2359.000000</td>\n",
              "      <td>2359.000000</td>\n",
              "      <td>2359.000000</td>\n",
              "      <td>2359.000000</td>\n",
              "      <td>2359.000000</td>\n",
              "    </tr>\n",
              "    <tr>\n",
              "      <th>mean</th>\n",
              "      <td>4.878679e+05</td>\n",
              "      <td>26018.609580</td>\n",
              "      <td>3.976685</td>\n",
              "      <td>2.943196</td>\n",
              "      <td>5.365283</td>\n",
              "      <td>-74.789417</td>\n",
              "    </tr>\n",
              "    <tr>\n",
              "      <th>std</th>\n",
              "      <td>6.146868e+05</td>\n",
              "      <td>32860.001783</td>\n",
              "      <td>1.415370</td>\n",
              "      <td>2.819897</td>\n",
              "      <td>2.287445</td>\n",
              "      <td>1.217827</td>\n",
              "    </tr>\n",
              "    <tr>\n",
              "      <th>min</th>\n",
              "      <td>7.600000e+03</td>\n",
              "      <td>0.000000</td>\n",
              "      <td>1.000000</td>\n",
              "      <td>1.000000</td>\n",
              "      <td>-4.215280</td>\n",
              "      <td>-77.281110</td>\n",
              "    </tr>\n",
              "    <tr>\n",
              "      <th>25%</th>\n",
              "      <td>5.575000e+04</td>\n",
              "      <td>3100.000000</td>\n",
              "      <td>3.000000</td>\n",
              "      <td>1.000000</td>\n",
              "      <td>4.609710</td>\n",
              "      <td>-75.563590</td>\n",
              "    </tr>\n",
              "    <tr>\n",
              "      <th>50%</th>\n",
              "      <td>2.353000e+05</td>\n",
              "      <td>12400.000000</td>\n",
              "      <td>5.000000</td>\n",
              "      <td>1.000000</td>\n",
              "      <td>4.609710</td>\n",
              "      <td>-74.199040</td>\n",
              "    </tr>\n",
              "    <tr>\n",
              "      <th>75%</th>\n",
              "      <td>6.781000e+05</td>\n",
              "      <td>36000.000000</td>\n",
              "      <td>5.000000</td>\n",
              "      <td>4.000000</td>\n",
              "      <td>6.251840</td>\n",
              "      <td>-74.081750</td>\n",
              "    </tr>\n",
              "    <tr>\n",
              "      <th>max</th>\n",
              "      <td>2.977000e+06</td>\n",
              "      <td>160800.000000</td>\n",
              "      <td>5.000000</td>\n",
              "      <td>24.000000</td>\n",
              "      <td>11.544440</td>\n",
              "      <td>-67.923900</td>\n",
              "    </tr>\n",
              "  </tbody>\n",
              "</table>\n",
              "</div>"
            ],
            "text/plain": [
              "             Precio  Costo de envío  Calificación  Cantidad de cuotas  \\\n",
              "count  2.359000e+03     2359.000000   2359.000000         2359.000000   \n",
              "mean   4.878679e+05    26018.609580      3.976685            2.943196   \n",
              "std    6.146868e+05    32860.001783      1.415370            2.819897   \n",
              "min    7.600000e+03        0.000000      1.000000            1.000000   \n",
              "25%    5.575000e+04     3100.000000      3.000000            1.000000   \n",
              "50%    2.353000e+05    12400.000000      5.000000            1.000000   \n",
              "75%    6.781000e+05    36000.000000      5.000000            4.000000   \n",
              "max    2.977000e+06   160800.000000      5.000000           24.000000   \n",
              "\n",
              "               lat          lon  \n",
              "count  2359.000000  2359.000000  \n",
              "mean      5.365283   -74.789417  \n",
              "std       2.287445     1.217827  \n",
              "min      -4.215280   -77.281110  \n",
              "25%       4.609710   -75.563590  \n",
              "50%       4.609710   -74.199040  \n",
              "75%       6.251840   -74.081750  \n",
              "max      11.544440   -67.923900  "
            ]
          },
          "execution_count": 14,
          "metadata": {},
          "output_type": "execute_result"
        }
      ],
      "source": [
        "# Obtener un resumen estadistico\n",
        "\n",
        "tienda.describe()"
      ]
    },
    {
      "cell_type": "code",
      "execution_count": 15,
      "metadata": {},
      "outputs": [
        {
          "data": {
            "text/plain": [
              "(2359, 12)"
            ]
          },
          "execution_count": 15,
          "metadata": {},
          "output_type": "execute_result"
        }
      ],
      "source": [
        "# ver la forma del data frame\n",
        "#  te dice cuantas filas y columnas tiene\n",
        "\n",
        "tienda.shape\n"
      ]
    },
    {
      "cell_type": "code",
      "execution_count": 16,
      "metadata": {},
      "outputs": [
        {
          "data": {
            "text/plain": [
              "Index(['Producto', 'Categoría del Producto', 'Precio', 'Costo de envío',\n",
              "       'Fecha de Compra', 'Vendedor', 'Lugar de Compra', 'Calificación',\n",
              "       'Método de pago', 'Cantidad de cuotas', 'lat', 'lon'],\n",
              "      dtype='object')"
            ]
          },
          "execution_count": 16,
          "metadata": {},
          "output_type": "execute_result"
        }
      ],
      "source": [
        "# Ver nombres de columnas\n",
        "\n",
        "tienda.columns"
      ]
    },
    {
      "cell_type": "code",
      "execution_count": 23,
      "metadata": {},
      "outputs": [
        {
          "name": "stdout",
          "output_type": "stream",
          "text": [
            "1150880400.0\n",
            "1116343500.0\n",
            "1098019600.0\n",
            "1038375700.0\n"
          ]
        }
      ],
      "source": [
        "# Sumatorias de precios de cada tienda\n",
        "\n",
        "sumPrecio1 = sum(tienda['Precio'])\n",
        "sumPrecio2 = sum(tienda2['Precio'])\n",
        "sumPrecio3 = sum(tienda3['Precio'])\n",
        "sumPrecio4 = sum(tienda4['Precio'])\n",
        "\n",
        "print(sumPrecio1)\n",
        "print(sumPrecio2)\n",
        "print(sumPrecio3)\n",
        "print(sumPrecio4)"
      ]
    },
    {
      "cell_type": "markdown",
      "metadata": {},
      "source": [
        "### Titulo"
      ]
    },
    {
      "cell_type": "markdown",
      "metadata": {
        "id": "2V_vcAPzWZmR"
      },
      "source": [
        "# 2. Ventas por categoría"
      ]
    },
    {
      "cell_type": "code",
      "execution_count": 39,
      "metadata": {
        "id": "A34YupIuYhfF"
      },
      "outputs": [
        {
          "name": "stdout",
          "output_type": "stream",
          "text": [
            "Tienda 1 - Categorías más populares:\n",
            "Categoría del Producto\n",
            "Muebles                    465\n",
            "Electrónicos               448\n",
            "Juguetes                   324\n",
            "Electrodomésticos          312\n",
            "Deportes Y Diversión       284\n",
            "Instrumentos Musicales     182\n",
            "Libros                     173\n",
            "Artículos Para El Hogar    171\n",
            "Name: count, dtype: int64 \n",
            "\n",
            "Tienda 2 - Categorías más populares:\n",
            "Categoría del Producto\n",
            "Muebles                    442\n",
            "Electrónicos               422\n",
            "Juguetes                   313\n",
            "Electrodomésticos          305\n",
            "Deportes Y Diversión       275\n",
            "Instrumentos Musicales     224\n",
            "Libros                     197\n",
            "Artículos Para El Hogar    181\n",
            "Name: count, dtype: int64 \n",
            "\n",
            "Tienda 3 - Categorías más populares:\n",
            "Categoría del Producto\n",
            "Muebles                    499\n",
            "Electrónicos               451\n",
            "Juguetes                   315\n",
            "Electrodomésticos          278\n",
            "Deportes Y Diversión       277\n",
            "Libros                     185\n",
            "Instrumentos Musicales     177\n",
            "Artículos Para El Hogar    177\n",
            "Name: count, dtype: int64 \n",
            "\n",
            "Tienda 4 - Categorías más populares:\n",
            "Categoría del Producto\n",
            "Muebles                    480\n",
            "Electrónicos               451\n",
            "Juguetes                   338\n",
            "Deportes Y Diversión       277\n",
            "Electrodomésticos          254\n",
            "Artículos Para El Hogar    201\n",
            "Libros                     187\n",
            "Instrumentos Musicales     170\n",
            "Name: count, dtype: int64\n"
          ]
        }
      ],
      "source": [
        "# Limpiar espacios y unificar texto en las categorías\n",
        "for df in [tienda, tienda2, tienda3, tienda4]:\n",
        "    df['Categoría del Producto'] = df['Categoría del Producto'].str.strip().str.title()\n",
        "\n",
        "# Cantidad de productos por categoría\n",
        "ventas1 = tienda['Categoría del Producto'].value_counts()\n",
        "ventas2 = tienda2['Categoría del Producto'].value_counts()\n",
        "ventas3 = tienda3['Categoría del Producto'].value_counts()\n",
        "ventas4 = tienda4['Categoría del Producto'].value_counts()\n",
        "\n",
        "print(\"Tienda 1 - Categorías más populares:\")\n",
        "print(ventas1, '\\n')\n",
        "\n",
        "print(\"Tienda 2 - Categorías más populares:\")\n",
        "print(ventas2, '\\n')\n",
        "\n",
        "print(\"Tienda 3 - Categorías más populares:\")\n",
        "print(ventas3, '\\n')\n",
        "\n",
        "print(\"Tienda 4 - Categorías más populares:\")\n",
        "print(ventas4)"
      ]
    },
    {
      "cell_type": "code",
      "execution_count": null,
      "metadata": {
        "id": "yZR6cOjXYSk1"
      },
      "outputs": [],
      "source": []
    },
    {
      "cell_type": "markdown",
      "metadata": {
        "id": "Rq6tU_xSY3jk"
      },
      "source": [
        "# 3. Calificación promedio de la tienda\n"
      ]
    },
    {
      "cell_type": "code",
      "execution_count": null,
      "metadata": {
        "id": "bh3jjjJwY5MU"
      },
      "outputs": [],
      "source": []
    },
    {
      "cell_type": "code",
      "execution_count": null,
      "metadata": {
        "id": "I0KkjPoTY88F"
      },
      "outputs": [],
      "source": []
    },
    {
      "cell_type": "markdown",
      "metadata": {
        "id": "DmNp1KPBZCm-"
      },
      "source": [
        "# 4. Productos más y menos vendidos"
      ]
    },
    {
      "cell_type": "code",
      "execution_count": null,
      "metadata": {
        "id": "qoyjqijQZHfF"
      },
      "outputs": [],
      "source": []
    },
    {
      "cell_type": "code",
      "execution_count": null,
      "metadata": {
        "id": "0Sw3sd4IZIGW"
      },
      "outputs": [],
      "source": []
    },
    {
      "cell_type": "markdown",
      "metadata": {
        "id": "Fl0cGi3bZKqU"
      },
      "source": [
        "# 5. Envío promedio por tienda"
      ]
    },
    {
      "cell_type": "code",
      "execution_count": null,
      "metadata": {
        "id": "S2JeaCykZNy9"
      },
      "outputs": [],
      "source": []
    },
    {
      "cell_type": "code",
      "execution_count": null,
      "metadata": {
        "id": "0tSdCie9ZQlt"
      },
      "outputs": [],
      "source": []
    }
  ],
  "metadata": {
    "colab": {
      "provenance": []
    },
    "kernelspec": {
      "display_name": "Python 3",
      "name": "python3"
    },
    "language_info": {
      "codemirror_mode": {
        "name": "ipython",
        "version": 3
      },
      "file_extension": ".py",
      "mimetype": "text/x-python",
      "name": "python",
      "nbconvert_exporter": "python",
      "pygments_lexer": "ipython3",
      "version": "3.11.9"
    }
  },
  "nbformat": 4,
  "nbformat_minor": 0
}
